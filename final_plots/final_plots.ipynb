{
 "cells": [
  {
   "cell_type": "code",
   "execution_count": 1,
   "metadata": {},
   "outputs": [],
   "source": [
    "%matplotlib notebook\n",
    "import matplotlib as mpl\n",
    "import matplotlib.pyplot as plt\n",
    "import numpy as np\n",
    "import pandas as pd\n",
    "import imp"
   ]
  },
  {
   "cell_type": "code",
   "execution_count": 2,
   "metadata": {},
   "outputs": [
    {
     "name": "stdout",
     "output_type": "stream",
     "text": [
      "Setting plot defaults.\n",
      "Mounting Osiris.\n",
      "Loading pidxdfOG: df of all profiles.index files in path /Users/troyraen/Osiris/mesaruns/RUNS_2test_final/profile_runs/\n",
      "Skipping c3 dir m1p00_stopmod1\n",
      "Loading mdf: df of metadata of all profiles in pidxdf\n"
     ]
    }
   ],
   "source": [
    "import plot_fncs as pf"
   ]
  },
  {
   "cell_type": "code",
   "execution_count": null,
   "metadata": {},
   "outputs": [],
   "source": [
    "pf.plotdir+'/Tefftmp.png'"
   ]
  },
  {
   "cell_type": "code",
   "execution_count": null,
   "metadata": {},
   "outputs": [],
   "source": [
    "hdf = pf.get_hdf(0,mass=0.8, from_file=False)\n",
    "type(hdf.star_age)\n",
    "hdf.star_age.iloc[0]\n"
   ]
  },
  {
   "cell_type": "code",
   "execution_count": null,
   "metadata": {},
   "outputs": [],
   "source": []
  },
  {
   "cell_type": "markdown",
   "metadata": {},
   "source": [
    "# Tau MS"
   ]
  },
  {
   "cell_type": "code",
   "execution_count": null,
   "metadata": {},
   "outputs": [],
   "source": [
    "imp.reload(pf)"
   ]
  },
  {
   "cell_type": "code",
   "execution_count": null,
   "metadata": {
    "scrolled": false
   },
   "outputs": [],
   "source": [
    "# descdf = pf.get_descdf(fin=pf.fdesc) # get the descdf\n",
    "\n",
    "plt.rcParams[\"text.usetex\"] = True\n",
    "\n",
    "# pf.plot_delta_tau(descdf)\n",
    "pf.plot_delta_tau(descdf, save=pf.plotdir+'/mstau.png')\n",
    "# pf.plot_delta_tau(descdf, save=pf.finalplotdir+'/mstau.png')\n"
   ]
  },
  {
   "cell_type": "code",
   "execution_count": null,
   "metadata": {},
   "outputs": [],
   "source": []
  },
  {
   "cell_type": "markdown",
   "metadata": {},
   "source": [
    "# Teff"
   ]
  },
  {
   "cell_type": "code",
   "execution_count": null,
   "metadata": {},
   "outputs": [],
   "source": [
    "plt.rcParams[\"text.usetex\"] = True\n",
    "\n",
    "mlist = [0.8, 1.0, 2.0, 3.5, 5.0]\n",
    "# mlist = [3.5, 5.0]\n",
    "cblist = [0, 4, 6]\n",
    "# from_file = pf.get_r2tf_LOGS_dirs(masses=mlist, cbs=cblist)\n",
    "    # Only need to send this dict once. \n",
    "    # After that the history dfs are stored in dict hdfs (unless overwritten)\n",
    "from_file = False\n",
    "\n",
    "pf.plot_Teff(mlist=mlist, cblist=cblist, from_file=from_file, save=None)\n",
    "# pf.plot_Teff(mlist=mlist, cblist=cblist, from_file=from_file, save=pf.plotdir+'/Tefftmp.png')\n",
    "\n",
    "# pf.plot_Teff(mlist=mlist, cblist=cblist, from_file=from_file, save=pf.finalplotdir+'/Teff.png')\n"
   ]
  },
  {
   "cell_type": "markdown",
   "metadata": {},
   "source": [
    "# HR tracks"
   ]
  },
  {
   "cell_type": "code",
   "execution_count": null,
   "metadata": {},
   "outputs": [],
   "source": [
    "pf.hdfs.keys()\n",
    "hdfs = pf.hdfs"
   ]
  },
  {
   "cell_type": "code",
   "execution_count": null,
   "metadata": {},
   "outputs": [],
   "source": [
    "plt.rcParams[\"text.usetex\"] = True\n",
    "\n",
    "mlist = [0.8, 1.0, 2.0, 3.5, 5.0]\n",
    "cblist = [0, 4, 6]\n",
    "# from_file = get_r2tf_LOGS_dirs(masses=mlist, cbs=cblist)\n",
    "    # Only need to send this dict once. \n",
    "    # After that the history dfs are stored in dict hdfs (unless overwritten)\n",
    "from_file = False\n",
    "\n",
    "# mlist = [1.0, 3.5]\n",
    "# cblist = [0, 6]\n",
    "# from_file=True\n",
    "\n",
    "# plot_HR(mlist=mlist, cblist=cblist, from_file=from_file, save=None)\n",
    "# plot_HR(mlist=mlist, cblist=cblist, from_file=from_file, save=plotdir+'/tracks.png')\n",
    "plot_HR_tracks(mlist=mlist, cblist=cblist, from_file=from_file, save=finalplotdir+'/tracks.png')\n",
    "\n",
    "# plot_HR_old(from_file=False, cut_axes=True, save=finalplotdir+'/HR.png')\n",
    "# plot_HR_old(from_file=False, cut_axes=True, save=plotdir+'/HRcut.png')\n",
    "# plot_HR_old(from_file=False, cut_axes=False, save=plotdir+'/HRfull.png')\n"
   ]
  },
  {
   "cell_type": "markdown",
   "metadata": {},
   "source": [
    "# Isochrones"
   ]
  },
  {
   "cell_type": "code",
   "execution_count": null,
   "metadata": {},
   "outputs": [],
   "source": [
    "plt.rcParams[\"text.usetex\"] = True\n",
    "\n",
    "# plot_times = [8.284, 8.4124, 8.8618, 9.1828, 9.4396, 9.6964, 9.9532, 10.017400000000002]\n",
    "isoages = get_iso_ages(isodf)\n",
    "plot_times = [age for i,age in enumerate(isoages) if i%5==0][3:]\n",
    "# plot_times = [7.0, 7.3852, 7.642, 7.8346, 8.0272, 8.155599999999998]\n",
    "# cblist = [c for c in range(7)]\n",
    "cblist = [0,4,6]\n",
    "\n",
    "plot_isos(isodf, plot_times=plot_times, cblist=cblist, save=finalplotdir+'/isos.png')\n",
    "# plot_isos(isodf, plot_times=plot_times, cblist=cblist, save=plotdir+'/isos_cb_bupu.png')\n",
    "# plot_isos(isodf, plot_times=plot_times, cut_axes=False, cblist=cblist)"
   ]
  }
 ],
 "metadata": {
  "kernelspec": {
   "display_name": "Python 3",
   "language": "python",
   "name": "python3"
  },
  "language_info": {
   "codemirror_mode": {
    "name": "ipython",
    "version": 3
   },
   "file_extension": ".py",
   "mimetype": "text/x-python",
   "name": "python",
   "nbconvert_exporter": "python",
   "pygments_lexer": "ipython3",
   "version": "3.6.8"
  }
 },
 "nbformat": 4,
 "nbformat_minor": 2
}
