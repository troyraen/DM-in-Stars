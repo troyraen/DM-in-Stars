{
 "cells": [
  {
   "cell_type": "code",
   "execution_count": 1,
   "metadata": {},
   "outputs": [
    {
     "name": "stdout",
     "output_type": "stream",
     "text": [
      "error: no history.data file found in .\n",
      "error: no star.log file found in .\n"
     ]
    },
    {
     "ename": "AttributeError",
     "evalue": "'star_log' object has no attribute 'data'",
     "output_type": "error",
     "traceback": [
      "\u001b[0;31m---------------------------------------------------------------------------\u001b[0m",
      "\u001b[0;31mAttributeError\u001b[0m                            Traceback (most recent call last)",
      "\u001b[0;32m<ipython-input-1-0eea5786e702>\u001b[0m in \u001b[0;36m<module>\u001b[0;34m()\u001b[0m\n\u001b[1;32m     29\u001b[0m     \u001b[0mlogfl\u001b[0m \u001b[0;34m=\u001b[0m \u001b[0mms\u001b[0m\u001b[0;34m.\u001b[0m\u001b[0mstar_log\u001b[0m\u001b[0;34m(\u001b[0m\u001b[0;34m'.'\u001b[0m\u001b[0;34m,\u001b[0m\u001b[0mslname\u001b[0m\u001b[0;34m=\u001b[0m\u001b[0mfil\u001b[0m\u001b[0;34m)\u001b[0m\u001b[0;34m\u001b[0m\u001b[0m\n\u001b[1;32m     30\u001b[0m \u001b[0;34m\u001b[0m\u001b[0m\n\u001b[0;32m---> 31\u001b[0;31m     \u001b[0mlgte\u001b[0m   \u001b[0;34m=\u001b[0m \u001b[0mlogfl\u001b[0m\u001b[0;34m.\u001b[0m\u001b[0mget\u001b[0m\u001b[0;34m(\u001b[0m\u001b[0;34m'log_Teff'\u001b[0m\u001b[0;34m)\u001b[0m\u001b[0;34m\u001b[0m\u001b[0m\n\u001b[0m\u001b[1;32m     32\u001b[0m     \u001b[0mlgl\u001b[0m    \u001b[0;34m=\u001b[0m \u001b[0mlogfl\u001b[0m\u001b[0;34m.\u001b[0m\u001b[0mget\u001b[0m\u001b[0;34m(\u001b[0m\u001b[0;34m'log_L'\u001b[0m\u001b[0;34m)\u001b[0m\u001b[0;34m\u001b[0m\u001b[0m\n\u001b[1;32m     33\u001b[0m \u001b[0;34m\u001b[0m\u001b[0m\n",
      "\u001b[0;32m/Users/troyraen/Google_Drive/python/mesa.py\u001b[0m in \u001b[0;36mget\u001b[0;34m(self, str_name)\u001b[0m\n\u001b[1;32m    938\u001b[0m         \"\"\"\n\u001b[1;32m    939\u001b[0m \u001b[0;34m\u001b[0m\u001b[0m\n\u001b[0;32m--> 940\u001b[0;31m         \u001b[0mcolumn_array\u001b[0m \u001b[0;34m=\u001b[0m \u001b[0mself\u001b[0m\u001b[0;34m.\u001b[0m\u001b[0mdata\u001b[0m\u001b[0;34m[\u001b[0m\u001b[0;34m:\u001b[0m\u001b[0;34m,\u001b[0m\u001b[0mself\u001b[0m\u001b[0;34m.\u001b[0m\u001b[0mcols\u001b[0m\u001b[0;34m[\u001b[0m\u001b[0mstr_name\u001b[0m\u001b[0;34m]\u001b[0m\u001b[0;34m-\u001b[0m\u001b[0;36m1\u001b[0m\u001b[0;34m]\u001b[0m\u001b[0;34m.\u001b[0m\u001b[0mastype\u001b[0m\u001b[0;34m(\u001b[0m\u001b[0;34m'float'\u001b[0m\u001b[0;34m)\u001b[0m\u001b[0;34m\u001b[0m\u001b[0m\n\u001b[0m\u001b[1;32m    941\u001b[0m         \u001b[0;32mreturn\u001b[0m \u001b[0mcolumn_array\u001b[0m\u001b[0;34m\u001b[0m\u001b[0m\n\u001b[1;32m    942\u001b[0m \u001b[0;34m\u001b[0m\u001b[0m\n",
      "\u001b[0;31mAttributeError\u001b[0m: 'star_log' object has no attribute 'data'"
     ]
    }
   ],
   "source": [
    "'''\n",
    "Basis python script to generate an HR diagram using\n",
    "mesa class to easily import data from star.log files\n",
    "'''\n",
    "import matplotlib.pyplot as plt\n",
    "import mesa as ms\n",
    "\n",
    "#--------------------------------------------------\n",
    "#...simplest settings in matplotlib Figures\n",
    "#...further modifications can be applied in \n",
    "#...the matplotlibrc file\n",
    "#--------------------------------------------------\n",
    "from matplotlib import rc\n",
    "rc('font',**{'family':'serif','serif':['Times']})\n",
    "rc('text', usetex=True)\n",
    "#-----------------------------------------------------\n",
    "\n",
    "# define list of log files that are to be used for the\n",
    "# HR plot\n",
    "mdlfiles = ['star.log']\n",
    "\n",
    "#...Plot initializations\n",
    "lwght = 1.3   # starting line-weight\n",
    "\n",
    "for fil in mdlfiles:\n",
    "    # we assume that the log files are stored in the directory\n",
    "    # where the script runs. Otherwise, replace '.' by the\n",
    "    # path to the appropriated directory\n",
    "    logfl = ms.star_log('.',slname=fil)\n",
    "\n",
    "    lgte   = logfl.get('log_Teff')\n",
    "    lgl    = logfl.get('log_L')\n",
    "\n",
    "    plt.plot(lgte, lgl, c='k', lw=lwght)\n",
    "\n",
    "#...prepare final output, with interted x-axis as usually used\n",
    "#...when using T_eff scale\n",
    "plt.xlim(xmin= 4.5,xmax=3.3)      # set a userdefined x-range\n",
    "plt.ylim(ymin=-1.0,ymax=4.0)      # set a userdefined y-range\n",
    "   \n",
    "##plt.title('Conservative ' r'$2.2 M_\\odot$')\n",
    "\n",
    "plt.xlabel(r'$\\log T_{\\mathrm{\\mathrm{eff}}}$')     #labeling the plot\n",
    "plt.ylabel(r'$\\log\\,L/L_\\odot$')\n",
    "\n",
    "plt.grid(False)\n",
    "plt.show()"
   ]
  },
  {
   "cell_type": "code",
   "execution_count": 2,
   "metadata": {
    "collapsed": true
   },
   "outputs": [],
   "source": [
    "import matplotlib\n",
    "\n",
    "# import mesa_reader to make its classes accessible\n",
    "import mesa_reader as mr\n",
    "\n",
    "# make a MesaData object from a history file\n",
    "h = mr.MesaData('LOGS/history.data')\n",
    "\n",
    "# extract the star_age column of data\n",
    "ages = h.data('star_age')\n",
    "\n",
    "# or do it more succinctly\n",
    "ages = h.star_age\n",
    "\n",
    "l = mr.MesaLogDir('./LOGS')\n",
    "\n",
    "# load the profile associated with model number 100\n",
    "p_100 = l.profile_data(100)\n",
    "# the same as the following\n",
    "p_100 = l.profile_data(model_number=100)\n",
    "\n",
    "# load the profile with PROFILE number 12\n",
    "p_12 = l.profile_data(profile_number=12)\n",
    "\n",
    "# load the last profile saved (largest model number)\n",
    "p_last = l.profile_data()"
   ]
  },
  {
   "cell_type": "code",
   "execution_count": 8,
   "metadata": {},
   "outputs": [
    {
     "data": {
      "image/png": "[encoded data removed]",
      "text/plain": [
       "<matplotlib.figure.Figure at 0x114b4f860>"
      ]
     },
     "metadata": {},
     "output_type": "display_data"
    }
   ],
   "source": [
    "# load and plot data\n",
    "h = mr.MesaData('LOGS/history.data')\n",
    "plt.plot(h.log_Teff, h.log_L)\n",
    "\n",
    "# set axis labels\n",
    "plt.xlabel('log Effective Temperature')\n",
    "plt.ylabel('log Luminosity')\n",
    "\n",
    "# invert the x-axis\n",
    "plt.gca().invert_xaxis()\n",
    "\n",
    "plt.show()"
   ]
  },
  {
   "cell_type": "code",
   "execution_count": null,
   "metadata": {
    "collapsed": true
   },
   "outputs": [],
   "source": []
  },
  {
   "cell_type": "code",
   "execution_count": null,
   "metadata": {
    "collapsed": true
   },
   "outputs": [],
   "source": []
  },
  {
   "cell_type": "code",
   "execution_count": null,
   "metadata": {
    "collapsed": true
   },
   "outputs": [],
   "source": []
  }
 ],
 "metadata": {
  "kernelspec": {
   "display_name": "Python 3",
   "language": "python",
   "name": "python3"
  },
  "language_info": {
   "codemirror_mode": {
    "name": "ipython",
    "version": 3
   },
   "file_extension": ".py",
   "mimetype": "text/x-python",
   "name": "python",
   "nbconvert_exporter": "python",
   "pygments_lexer": "ipython3",
   "version": "3.6.0"
  }
 },
 "nbformat": 4,
 "nbformat_minor": 2
}
